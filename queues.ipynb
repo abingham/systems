{
 "cells": [
  {
   "cell_type": "code",
   "execution_count": null,
   "metadata": {
    "collapsed": true
   },
   "outputs": [],
   "source": [
    "class Item:\n",
    "    def __init__(self,\n",
    "                 arrival_time,\n",
    "                 processing_time,\n",
    "                 enqueue_time):\n",
    "        self.arrival_time = arrival_time\n",
    "        self.processing_time = processing_time\n",
    "        self.enqueue_time = enqueue_time\n",
    "\n",
    "    @property\n",
    "    def dequeue_time(self):\n",
    "        return self.enqueue_time + self.processing_time\n",
    "\n",
    "    def __repr__(self):\n",
    "        return 'Item(arr={}, proc={}, enq={}, deq={})'.format(\n",
    "            self.arrival_time,\n",
    "            self.processing_time,\n",
    "            self.enqueue_time,\n",
    "            self.dequeue_time)"
   ]
  },
  {
   "cell_type": "code",
   "execution_count": null,
   "metadata": {
    "collapsed": true
   },
   "outputs": [],
   "source": [
    "import random\n",
    "\n",
    "def exponential_seq(mean):\n",
    "    while True:\n",
    "        yield random.expovariate(1.0 / mean)"
   ]
  },
  {
   "cell_type": "code",
   "execution_count": null,
   "metadata": {
    "collapsed": true
   },
   "outputs": [],
   "source": [
    "def work_items(arrival_intervals, processing_times):\n",
    "    arrival_times = accumulate(arrival_intervals)\n",
    "    previous_item = None\n",
    "    for at, pt in zip(arrival_times, processing_times):\n",
    "        if previous_item is None:\n",
    "            previous_item = Item(at, pt, at)\n",
    "            yield previous_item\n",
    "        else:\n",
    "            enqueue_time = max(previous_item.dequeue_time, at)\n",
    "            previous_item = Item(at, pt, enqueue_time)\n",
    "            yield previous_item"
   ]
  },
  {
   "cell_type": "markdown",
   "metadata": {},
   "source": [
    "Now we generate a sequence of work items based on a mean inter-arrival time and mean processing time."
   ]
  },
  {
   "cell_type": "code",
   "execution_count": null,
   "metadata": {
    "collapsed": true
   },
   "outputs": [],
   "source": [
    "MEAN_INTER_ARRIVAL_TIME = 5\n",
    "MEAN_PROCESSING_TIME = 5\n",
    "arrival_intervals = exponential_seq(MEAN_INTER_ARRIVAL_TIME)\n",
    "processing_times = exponential_seq(MEAN_PROCESSING_TIME)\n",
    "items = work_items(arrival_intervals, processing_times)"
   ]
  },
  {
   "cell_type": "code",
   "execution_count": null,
   "metadata": {
    "collapsed": true
   },
   "outputs": [],
   "source": [
    "from bokeh.plotting import *\n",
    "\n",
    "output_notebook()\n",
    "\n",
    "# create a new plot with a title and axis labels\n",
    "p = figure(title=\"Car lot\", \n",
    "           x_axis_label='day', \n",
    "           y_axis_label='stock',\n",
    "           y_range=[0, 300])\n",
    "\n",
    "num_days=1000\n",
    "stock_levels = simulate(\n",
    "    initial_stock=200, \n",
    "    num_days=num_days, \n",
    "    delivery_delay=5,\n",
    "    purchaser=lambda stock, daily_sales: purchase_order(stock, daily_sales, 200, 5))\n",
    "\n",
    "p.line(list(range(num_days)), stock_levels, legend=\"Stock\", line_width=2)\n",
    "\n",
    "show(p)"
   ]
  }
 ],
 "metadata": {
  "kernelspec": {
   "display_name": "Python 3",
   "language": "python",
   "name": "python3"
  },
  "language_info": {
   "codemirror_mode": {
    "name": "ipython",
    "version": 3
   },
   "file_extension": ".py",
   "mimetype": "text/x-python",
   "name": "python",
   "nbconvert_exporter": "python",
   "pygments_lexer": "ipython3",
   "version": "3.4.2"
  }
 },
 "nbformat": 4,
 "nbformat_minor": 0
}
