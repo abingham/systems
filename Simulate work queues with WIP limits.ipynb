{
 "cells": [
  {
   "cell_type": "markdown",
   "metadata": {},
   "source": [
    "We want to simulate a series of workflow steps. Each step takes on average a certain amount of time, but the time varies with some distribution. We can explore the effects of WIP limits by tracking the overall inventory (i.e. queued work) over time.\n",
    "\n",
    "Process capacity = N work units / time unit\n",
    "Process utilization = average work time * items in queue / capacity\n",
    "\n",
    "Perhaps more importantly we want to measure/track response time, i.e. the average time it takes for an item to go through the system."
   ]
  },
  {
   "cell_type": "markdown",
   "metadata": {},
   "source": [
    "## Little's Law\n",
    "```\n",
    "L = λW\n",
    "```\n",
    "where:\n",
    "\n",
    " * `L` is the average number of elements in the system \n",
    " * `λ` is the arrival rate\n",
    " * `W` is the average time an element (customer) spends in the system"
   ]
  },
  {
   "cell_type": "code",
   "execution_count": null,
   "metadata": {
    "collapsed": true
   },
   "outputs": [],
   "source": []
  }
 ],
 "metadata": {
  "kernelspec": {
   "display_name": "Python 3",
   "language": "python",
   "name": "python3"
  },
  "language_info": {
   "codemirror_mode": {
    "name": "ipython",
    "version": 3
   },
   "file_extension": ".py",
   "mimetype": "text/x-python",
   "name": "python",
   "nbconvert_exporter": "python",
   "pygments_lexer": "ipython3",
   "version": "3.4.2"
  }
 },
 "nbformat": 4,
 "nbformat_minor": 0
}
